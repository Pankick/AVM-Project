{
 "cells": [
  {
   "cell_type": "markdown",
   "id": "234e96d3-1c7a-4dd5-815b-e300a44e107a",
   "metadata": {},
   "source": [
    "# Home Price Model Project Part 1"
   ]
  },
  {
   "cell_type": "markdown",
   "id": "3ce3dcb3-e68a-40fd-882b-1fa42bf40862",
   "metadata": {},
   "source": [
    "### Read the data 'train.csv'"
   ]
  },
  {
   "cell_type": "code",
   "execution_count": null,
   "id": "3986a5f8-69c7-40c2-900d-51d09e34b9f9",
   "metadata": {},
   "outputs": [],
   "source": []
  },
  {
   "cell_type": "markdown",
   "id": "4c06f56f-5bcd-4d21-a310-bc5602dab65c",
   "metadata": {},
   "source": [
    "### Explore the data"
   ]
  },
  {
   "cell_type": "markdown",
   "id": "18474a7f-2c98-443c-8620-056bca3d20ec",
   "metadata": {},
   "source": [
    "- Check the distribution of SalePrice"
   ]
  },
  {
   "cell_type": "code",
   "execution_count": null,
   "id": "0499406d-7b5a-416c-b975-e3caf7ce5a35",
   "metadata": {},
   "outputs": [],
   "source": []
  },
  {
   "cell_type": "markdown",
   "id": "78db6a62-d644-4982-bc2d-87b6a45d40d3",
   "metadata": {},
   "source": [
    "- Look into column types, filter out numerical variables and categorical variables"
   ]
  },
  {
   "cell_type": "code",
   "execution_count": null,
   "id": "5550f9c3-653d-4072-95c3-a735dbaf5ea5",
   "metadata": {},
   "outputs": [],
   "source": []
  },
  {
   "cell_type": "markdown",
   "id": "d9c70346-2b4a-4328-9208-1685a4ee2820",
   "metadata": {},
   "source": [
    "#### First we perform analysis on numerical variables "
   ]
  },
  {
   "cell_type": "markdown",
   "id": "388675da-9ab5-4eae-855e-023456ab9741",
   "metadata": {},
   "source": [
    "- Remove Id column"
   ]
  },
  {
   "cell_type": "code",
   "execution_count": null,
   "id": "2d86915b-e0eb-43a1-9455-79b680a3eaa0",
   "metadata": {},
   "outputs": [],
   "source": []
  },
  {
   "cell_type": "markdown",
   "id": "0b8b7042-3144-4e12-897e-dadca58f6617",
   "metadata": {},
   "source": [
    "- Calculate correlation between SalePrice and all numerical variables, and sort them"
   ]
  },
  {
   "cell_type": "code",
   "execution_count": null,
   "id": "955d1cd5-fb4f-4559-876d-b65d68fb1060",
   "metadata": {},
   "outputs": [],
   "source": []
  },
  {
   "cell_type": "markdown",
   "id": "cd4cfa25-5f7c-4292-9928-f84c66391144",
   "metadata": {},
   "source": [
    "- Pick variables with abs of correlation greater than 0.2 and Create correlation matrix for all numerical variables"
   ]
  },
  {
   "cell_type": "code",
   "execution_count": null,
   "id": "7b7c0cc3-6fd2-4e21-ae23-e867fefcf0af",
   "metadata": {},
   "outputs": [],
   "source": []
  },
  {
   "cell_type": "markdown",
   "id": "7c40e223-517f-46a4-bd53-89229d85c35b",
   "metadata": {},
   "source": [
    "- Check the correlation heatmap and explain why certain pairs of variables have high correlation"
   ]
  },
  {
   "cell_type": "raw",
   "id": "5a488fde-5032-4287-8bac-362faa4ddf7a",
   "metadata": {},
   "source": [
    "e.g.\n",
    "YearBilt & GarageYrBlt\n",
    "GrLIvArea & TotRmsAbvGrd\n",
    "GarageArea & GarageCars"
   ]
  },
  {
   "cell_type": "code",
   "execution_count": null,
   "id": "d14834ea-e56d-470b-8568-f85492033489",
   "metadata": {},
   "outputs": [],
   "source": []
  },
  {
   "cell_type": "markdown",
   "id": "1e1f8aec-9d3d-438f-b291-0013129ad55a",
   "metadata": {},
   "source": [
    "- Conclusion"
   ]
  },
  {
   "cell_type": "code",
   "execution_count": null,
   "id": "484e8b9e-6828-4b6d-affc-f716fdce8252",
   "metadata": {},
   "outputs": [],
   "source": []
  }
 ],
 "metadata": {
  "kernelspec": {
   "display_name": "Python 3",
   "language": "python",
   "name": "python3"
  },
  "language_info": {
   "codemirror_mode": {
    "name": "ipython",
    "version": 3
   },
   "file_extension": ".py",
   "mimetype": "text/x-python",
   "name": "python",
   "nbconvert_exporter": "python",
   "pygments_lexer": "ipython3",
   "version": "3.8.8"
  }
 },
 "nbformat": 4,
 "nbformat_minor": 5
}
