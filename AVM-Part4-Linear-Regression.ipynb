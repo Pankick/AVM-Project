{
 "cells": [
  {
   "cell_type": "markdown",
   "id": "7aae7f29-6be5-4202-a634-56682c821137",
   "metadata": {},
   "source": [
    "# Home Price Model Project Part 4"
   ]
  },
  {
   "cell_type": "markdown",
   "id": "f102668c-c15c-4988-9877-366c05ece37f",
   "metadata": {},
   "source": [
    "#### Import Packages"
   ]
  },
  {
   "cell_type": "code",
   "execution_count": 1,
   "id": "70ee94f3-9114-4f87-a8d4-aeb83583de88",
   "metadata": {},
   "outputs": [],
   "source": [
    "import pandas as pd\n",
    "import numpy as np\n",
    "import matplotlib.pyplot as plt\n",
    "import seaborn as sns\n",
    "from sklearn.model_selection import train_test_split\n",
    "from xgboost import XGBRegressor\n",
    "from sklearn.metrics import mean_squared_log_error, mean_absolute_error, r2_score"
   ]
  },
  {
   "cell_type": "markdown",
   "id": "0286a7c7-c733-499e-9f6a-ef90ab56146e",
   "metadata": {},
   "source": [
    "#### Read the data that we cleaned from part 3"
   ]
  },
  {
   "cell_type": "code",
   "execution_count": null,
   "id": "54316cc6-a03b-47ef-a481-c52e7a35b974",
   "metadata": {},
   "outputs": [],
   "source": []
  },
  {
   "cell_type": "code",
   "execution_count": null,
   "id": "b53d5150-c186-4981-b7e1-0c77f52eae56",
   "metadata": {},
   "outputs": [],
   "source": [
    "# There are 3 non_numeric variables stored as int.\n",
    "# Let's fix them"
   ]
  },
  {
   "cell_type": "code",
   "execution_count": null,
   "id": "6e1e19b9-fa17-404a-b6b8-395e76786f4b",
   "metadata": {},
   "outputs": [],
   "source": []
  },
  {
   "cell_type": "markdown",
   "id": "58ae69d5-7e29-4d6d-a052-eb21e25f10e1",
   "metadata": {},
   "source": [
    "#### Check skewness for numeric variables"
   ]
  },
  {
   "cell_type": "code",
   "execution_count": null,
   "id": "1fd08d43-4db8-449f-a51a-04465fe1eda1",
   "metadata": {},
   "outputs": [],
   "source": []
  },
  {
   "cell_type": "code",
   "execution_count": null,
   "id": "6c73a6c5-aa87-4496-a59e-08aff50fbcee",
   "metadata": {},
   "outputs": [],
   "source": [
    "# Let's do a transformation"
   ]
  },
  {
   "cell_type": "code",
   "execution_count": null,
   "id": "c6cfde0a-cee5-497e-b5bd-a65b9814819e",
   "metadata": {},
   "outputs": [],
   "source": [
    "# Create dummy variables"
   ]
  },
  {
   "cell_type": "code",
   "execution_count": null,
   "id": "917f56f6-f965-456b-8de9-71dfa84d7510",
   "metadata": {},
   "outputs": [],
   "source": [
    "# Split training and validation set"
   ]
  },
  {
   "cell_type": "markdown",
   "id": "e7be9980-b245-457b-a38d-c91fdca574cd",
   "metadata": {},
   "source": [
    "#### Simple Linear Regression"
   ]
  },
  {
   "cell_type": "code",
   "execution_count": null,
   "id": "cd8bba86-7d2f-4aee-a5e7-4988446babf1",
   "metadata": {},
   "outputs": [],
   "source": []
  },
  {
   "cell_type": "code",
   "execution_count": null,
   "id": "a519aeea-d0eb-422e-96a2-bd69ef6e6e0f",
   "metadata": {},
   "outputs": [],
   "source": [
    "# How can we improve this linear model?"
   ]
  },
  {
   "cell_type": "markdown",
   "id": "dfe2159c-1fbc-4d50-9414-918a4e85e2c2",
   "metadata": {},
   "source": [
    "#### Lasso Regression"
   ]
  },
  {
   "cell_type": "code",
   "execution_count": null,
   "id": "2b870237-b70a-433b-9b82-e97276415ae5",
   "metadata": {},
   "outputs": [],
   "source": []
  },
  {
   "cell_type": "markdown",
   "id": "fb3fa893-cad9-452e-a4e1-482bd601f23f",
   "metadata": {},
   "source": [
    "#### Ridge Regression"
   ]
  },
  {
   "cell_type": "code",
   "execution_count": null,
   "id": "069acbaf-48b5-403f-8389-b50503ccc60c",
   "metadata": {},
   "outputs": [],
   "source": []
  }
 ],
 "metadata": {
  "kernelspec": {
   "display_name": "Python 3",
   "language": "python",
   "name": "python3"
  },
  "language_info": {
   "codemirror_mode": {
    "name": "ipython",
    "version": 3
   },
   "file_extension": ".py",
   "mimetype": "text/x-python",
   "name": "python",
   "nbconvert_exporter": "python",
   "pygments_lexer": "ipython3",
   "version": "3.8.8"
  }
 },
 "nbformat": 4,
 "nbformat_minor": 5
}
