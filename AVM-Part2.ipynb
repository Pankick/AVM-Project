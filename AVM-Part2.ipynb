{
 "cells": [
  {
   "cell_type": "markdown",
   "id": "acc53afc-4c2f-4a5f-b223-7a9888cb0a0f",
   "metadata": {},
   "source": [
    "# Home Price Model Project Part 2"
   ]
  },
  {
   "cell_type": "markdown",
   "id": "1d71d28d-5a55-4350-91b7-48ed61a5310a",
   "metadata": {},
   "source": [
    "#### Load Packages"
   ]
  },
  {
   "cell_type": "code",
   "execution_count": null,
   "id": "0c13ed85-55fe-4b92-a648-54ee9e2c937a",
   "metadata": {},
   "outputs": [],
   "source": []
  },
  {
   "cell_type": "markdown",
   "id": "4f159ffa-f4a3-4dd6-8985-44b5d4d4ceed",
   "metadata": {},
   "source": [
    "#### Read the data 'train.csv'"
   ]
  },
  {
   "cell_type": "code",
   "execution_count": null,
   "id": "c539b45c-fddc-455d-8eeb-37c3d2e22239",
   "metadata": {},
   "outputs": [],
   "source": []
  },
  {
   "cell_type": "markdown",
   "id": "2da057a7-7806-43cc-b696-a8583aef87e5",
   "metadata": {},
   "source": [
    "#### Save log of sale price as LogSalePrice"
   ]
  },
  {
   "cell_type": "code",
   "execution_count": null,
   "id": "40325801-7267-4561-a2b4-74682ae7d217",
   "metadata": {},
   "outputs": [],
   "source": []
  },
  {
   "cell_type": "markdown",
   "id": "271559b7-d8cf-4c85-970c-a882ce83324a",
   "metadata": {},
   "source": [
    "#### Filter out only categorical variables and add LogSalePrice to the dataframe"
   ]
  },
  {
   "cell_type": "code",
   "execution_count": null,
   "id": "2f36cab2-d9c3-460e-8e7b-864c9270bfd3",
   "metadata": {},
   "outputs": [],
   "source": []
  },
  {
   "cell_type": "markdown",
   "id": "a266273d-d33e-40cc-bfb5-56229609d96c",
   "metadata": {},
   "source": [
    "#### List categorical features with missing values, calculate number and percentage of missings"
   ]
  },
  {
   "cell_type": "code",
   "execution_count": null,
   "id": "c4ec0607-42d9-42f4-ae90-a88654a68a63",
   "metadata": {},
   "outputs": [],
   "source": []
  },
  {
   "cell_type": "markdown",
   "id": "5547787b-adcc-4e5f-b717-b0262d22d763",
   "metadata": {},
   "source": [
    "#### For categorical variables, replace missing with \"None\""
   ]
  },
  {
   "cell_type": "code",
   "execution_count": null,
   "id": "4a4c4a89-04af-4d58-bbae-3a9d9be330f3",
   "metadata": {},
   "outputs": [],
   "source": []
  },
  {
   "cell_type": "markdown",
   "id": "5830844f-4775-4859-9cdd-6b6a993a7623",
   "metadata": {},
   "source": [
    "#### List of categorical variables and their value counts"
   ]
  },
  {
   "cell_type": "code",
   "execution_count": null,
   "id": "837f4300-b0f4-48bf-a852-3d3adb3a6d14",
   "metadata": {},
   "outputs": [],
   "source": []
  },
  {
   "cell_type": "markdown",
   "id": "7662d557-3552-4f6d-ac56-f5c5c0eb1342",
   "metadata": {},
   "source": [
    "#### To explore relation between all categorical features and LogSalePrice， let's create boxplots"
   ]
  },
  {
   "cell_type": "code",
   "execution_count": null,
   "id": "d5c63360-4309-4893-8d48-8df2210dc68f",
   "metadata": {},
   "outputs": [],
   "source": []
  },
  {
   "cell_type": "markdown",
   "id": "48f3bc40-5894-47a5-93d8-d6483fb66457",
   "metadata": {},
   "source": [
    "#### Conclusion from EDA on categorical columns:"
   ]
  },
  {
   "cell_type": "code",
   "execution_count": null,
   "id": "9622e9bb-b1c6-434a-a6d4-b0821bc1d1b1",
   "metadata": {},
   "outputs": [],
   "source": []
  },
  {
   "cell_type": "markdown",
   "id": "b95eaedc-3c5b-48aa-9433-2a60bec40973",
   "metadata": {},
   "source": [
    "#### Which variables are strongly correlated and which are weakly correlated with sale price?"
   ]
  },
  {
   "cell_type": "code",
   "execution_count": null,
   "id": "538bd08b-472d-489b-9f18-81826c778dfa",
   "metadata": {},
   "outputs": [],
   "source": []
  }
 ],
 "metadata": {
  "kernelspec": {
   "display_name": "Python 3",
   "language": "python",
   "name": "python3"
  },
  "language_info": {
   "codemirror_mode": {
    "name": "ipython",
    "version": 3
   },
   "file_extension": ".py",
   "mimetype": "text/x-python",
   "name": "python",
   "nbconvert_exporter": "python",
   "pygments_lexer": "ipython3",
   "version": "3.8.8"
  }
 },
 "nbformat": 4,
 "nbformat_minor": 5
}
